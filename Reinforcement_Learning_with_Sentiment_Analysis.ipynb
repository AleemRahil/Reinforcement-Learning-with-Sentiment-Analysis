{
  "nbformat": 4,
  "nbformat_minor": 0,
  "metadata": {
    "colab": {
      "provenance": [],
      "authorship_tag": "ABX9TyPw/nBRZsPMQphnpAtQuiag",
      "include_colab_link": true
    },
    "kernelspec": {
      "name": "python3",
      "display_name": "Python 3"
    },
    "language_info": {
      "name": "python"
    }
  },
  "cells": [
    {
      "cell_type": "markdown",
      "metadata": {
        "id": "view-in-github",
        "colab_type": "text"
      },
      "source": [
        "<a href=\"https://colab.research.google.com/github/AleemRahil/Reinforcement-Learning-with-Sentiment-Analysis/blob/main/Reinforcement_Learning_with_Sentiment_Analysis.ipynb\" target=\"_parent\"><img src=\"https://colab.research.google.com/assets/colab-badge.svg\" alt=\"Open In Colab\"/></a>"
      ]
    },
    {
      "cell_type": "code",
      "execution_count": 9,
      "metadata": {
        "id": "28QjdNMb85hB",
        "colab": {
          "base_uri": "https://localhost:8080/"
        },
        "outputId": "e9138214-0fd8-43b7-a862-284eacb1eb7a"
      },
      "outputs": [
        {
          "output_type": "stream",
          "name": "stderr",
          "text": [
            "<ipython-input-9-d08e1ed8c8c4>:9: MatplotlibDeprecationWarning: The seaborn styles shipped by Matplotlib are deprecated since 3.6, as they no longer correspond to the styles shipped by seaborn. However, they will remain available as 'seaborn-v0_8-<style>'. Alternatively, directly use the seaborn API instead.\n",
            "  plt.style.use('seaborn')\n"
          ]
        }
      ],
      "source": [
        "import os\n",
        "import math\n",
        "import time\n",
        "import random\n",
        "import numpy as np\n",
        "import pandas as pd\n",
        "from pylab import plt\n",
        "from IPython import display\n",
        "plt.style.use('seaborn')\n",
        "np.set_printoptions(precision=4, suppress=True)\n",
        "os.environ['PYTHONHASHSEED'] = '0'"
      ]
    },
    {
      "cell_type": "code",
      "source": [
        "import gym\n",
        "env = gym.make('CartPole-v0')\n"
      ],
      "metadata": {
        "colab": {
          "base_uri": "https://localhost:8080/"
        },
        "id": "DrkCqlsRcZRl",
        "outputId": "73bb551e-81a4-4dba-e546-0effa19827cd"
      },
      "execution_count": 10,
      "outputs": [
        {
          "output_type": "stream",
          "name": "stderr",
          "text": [
            "/usr/local/lib/python3.10/dist-packages/gym/envs/registration.py:593: UserWarning: \u001b[33mWARN: The environment CartPole-v0 is out of date. You should consider upgrading to version `v1`.\u001b[0m\n",
            "  logger.warn(\n",
            "/usr/local/lib/python3.10/dist-packages/gym/core.py:317: DeprecationWarning: \u001b[33mWARN: Initializing wrapper in old step API which returns one bool instead of two. It is recommended to set `new_step_api=True` to use new step API. This will be the default behaviour in future.\u001b[0m\n",
            "  deprecation(\n",
            "/usr/local/lib/python3.10/dist-packages/gym/wrappers/step_api_compatibility.py:39: DeprecationWarning: \u001b[33mWARN: Initializing environment in old step API which returns one bool instead of two. It is recommended to set `new_step_api=True` to use new step API. This will be the default behaviour in future.\u001b[0m\n",
            "  deprecation(\n"
          ]
        }
      ]
    },
    {
      "cell_type": "code",
      "source": [
        "env.observation_space\n"
      ],
      "metadata": {
        "colab": {
          "base_uri": "https://localhost:8080/"
        },
        "id": "zOTXTD3HdMR8",
        "outputId": "4f2a6611-3596-410b-a188-4f11c954f264"
      },
      "execution_count": 11,
      "outputs": [
        {
          "output_type": "stream",
          "name": "stderr",
          "text": [
            "/usr/local/lib/python3.10/dist-packages/ipykernel/ipkernel.py:283: DeprecationWarning: `should_run_async` will not call `transform_cell` automatically in the future. Please pass the result to `transformed_cell` argument and any exception that happen during thetransform in `preprocessing_exc_tuple` in IPython 7.17 and above.\n",
            "  and should_run_async(code)\n"
          ]
        },
        {
          "output_type": "execute_result",
          "data": {
            "text/plain": [
              "Box([-4.8000e+00 -3.4028e+38 -4.1888e-01 -3.4028e+38], [4.8000e+00 3.4028e+38 4.1888e-01 3.4028e+38], (4,), float32)"
            ]
          },
          "metadata": {},
          "execution_count": 11
        }
      ]
    },
    {
      "cell_type": "code",
      "source": [
        "env.observation_space.shape[0]"
      ],
      "metadata": {
        "colab": {
          "base_uri": "https://localhost:8080/"
        },
        "id": "1WMQGsP9R0dP",
        "outputId": "de302da5-96b8-4a38-e63a-2774484d0a1e"
      },
      "execution_count": 53,
      "outputs": [
        {
          "output_type": "execute_result",
          "data": {
            "text/plain": [
              "4"
            ]
          },
          "metadata": {},
          "execution_count": 53
        }
      ]
    },
    {
      "cell_type": "code",
      "source": [
        "env.observation_space.low.astype(np.float16)\n"
      ],
      "metadata": {
        "colab": {
          "base_uri": "https://localhost:8080/"
        },
        "id": "HAvY3KzudMUV",
        "outputId": "be400508-9481-408a-a260-e6ce9e0aef62"
      },
      "execution_count": 12,
      "outputs": [
        {
          "output_type": "execute_result",
          "data": {
            "text/plain": [
              "array([-4.8  ,   -inf, -0.419,   -inf], dtype=float16)"
            ]
          },
          "metadata": {},
          "execution_count": 12
        }
      ]
    },
    {
      "cell_type": "code",
      "source": [
        "env.observation_space.high.astype(np.float16)\n"
      ],
      "metadata": {
        "colab": {
          "base_uri": "https://localhost:8080/"
        },
        "id": "Eu9alcICdMW5",
        "outputId": "9dd83733-5b15-4ccd-9c38-041cfcf69a02"
      },
      "execution_count": 13,
      "outputs": [
        {
          "output_type": "execute_result",
          "data": {
            "text/plain": [
              "array([4.8  ,   inf, 0.419,   inf], dtype=float16)"
            ]
          },
          "metadata": {},
          "execution_count": 13
        }
      ]
    },
    {
      "cell_type": "code",
      "source": [
        "state = env.reset()\n"
      ],
      "metadata": {
        "id": "DvRlqQIqdMZN"
      },
      "execution_count": 14,
      "outputs": []
    },
    {
      "cell_type": "code",
      "source": [
        "state # [cart position, cart velocity, pole angle, pole angular velocity]\n"
      ],
      "metadata": {
        "colab": {
          "base_uri": "https://localhost:8080/"
        },
        "id": "fRQ9JtrDdMbz",
        "outputId": "caab835f-af1c-4e78-f073-17e664060733"
      },
      "execution_count": 15,
      "outputs": [
        {
          "output_type": "execute_result",
          "data": {
            "text/plain": [
              "array([ 0.0462, -0.0158, -0.0416,  0.0211], dtype=float32)"
            ]
          },
          "metadata": {},
          "execution_count": 15
        }
      ]
    },
    {
      "cell_type": "code",
      "source": [
        "env.action_space\n"
      ],
      "metadata": {
        "colab": {
          "base_uri": "https://localhost:8080/"
        },
        "id": "TuxjpeXbdMep",
        "outputId": "0c29b740-da8d-4348-84c7-ed8077e7215d"
      },
      "execution_count": 16,
      "outputs": [
        {
          "output_type": "execute_result",
          "data": {
            "text/plain": [
              "Discrete(2)"
            ]
          },
          "metadata": {},
          "execution_count": 16
        }
      ]
    },
    {
      "cell_type": "code",
      "source": [
        "env.action_space.n"
      ],
      "metadata": {
        "colab": {
          "base_uri": "https://localhost:8080/"
        },
        "id": "GOOU8xl1dMgl",
        "outputId": "0e69dbd2-a231-4fd2-8157-f6dde2f0e5f2"
      },
      "execution_count": 17,
      "outputs": [
        {
          "output_type": "execute_result",
          "data": {
            "text/plain": [
              "2"
            ]
          },
          "metadata": {},
          "execution_count": 17
        }
      ]
    },
    {
      "cell_type": "code",
      "source": [
        "env.action_space.sample()"
      ],
      "metadata": {
        "colab": {
          "base_uri": "https://localhost:8080/"
        },
        "id": "oKwY1c2idvDi",
        "outputId": "2817b35f-180b-4486-f174-c6a5605f616b"
      },
      "execution_count": 18,
      "outputs": [
        {
          "output_type": "execute_result",
          "data": {
            "text/plain": [
              "1"
            ]
          },
          "metadata": {},
          "execution_count": 18
        }
      ]
    },
    {
      "cell_type": "code",
      "source": [
        "env.action_space.sample()"
      ],
      "metadata": {
        "colab": {
          "base_uri": "https://localhost:8080/"
        },
        "id": "XZryIbZHd11d",
        "outputId": "79be3fb5-14fe-4122-a4fa-8a6eaf7ff49c"
      },
      "execution_count": 19,
      "outputs": [
        {
          "output_type": "execute_result",
          "data": {
            "text/plain": [
              "0"
            ]
          },
          "metadata": {},
          "execution_count": 19
        }
      ]
    },
    {
      "cell_type": "code",
      "source": [
        "a = env.action_space.sample()\n",
        "a"
      ],
      "metadata": {
        "colab": {
          "base_uri": "https://localhost:8080/"
        },
        "id": "RCuqvbzad4c0",
        "outputId": "188a1e72-893e-40c0-b78c-66dc2e9ef34e"
      },
      "execution_count": 20,
      "outputs": [
        {
          "output_type": "execute_result",
          "data": {
            "text/plain": [
              "1"
            ]
          },
          "metadata": {},
          "execution_count": 20
        }
      ]
    },
    {
      "cell_type": "code",
      "source": [
        "state, reward, done, info = env.step(a)\n",
        "state, reward, done, info"
      ],
      "metadata": {
        "colab": {
          "base_uri": "https://localhost:8080/"
        },
        "id": "-Q8x5It2d9jD",
        "outputId": "3f6569d2-8437-4010-b104-4999acf48485"
      },
      "execution_count": 21,
      "outputs": [
        {
          "output_type": "execute_result",
          "data": {
            "text/plain": [
              "(array([ 0.0459,  0.1799, -0.0412, -0.2844], dtype=float32), 1.0, False, {})"
            ]
          },
          "metadata": {},
          "execution_count": 21
        }
      ]
    },
    {
      "cell_type": "code",
      "source": [
        "env.reset()\n",
        "for e in range(1, 200):\n",
        "  a = env.action_space.sample()\n",
        "  state, reward, done, info = env.step(a) #<2>\n",
        "  print(f'step={e:2d} | state={state} | action={a} | reward={reward}')\n",
        "  if done and (e + 1) < 200:\n",
        "    print('*** FAILED ***')\n",
        "    break"
      ],
      "metadata": {
        "colab": {
          "base_uri": "https://localhost:8080/"
        },
        "id": "EEfED-e5eI6K",
        "outputId": "478ee137-33e5-47e5-e8ee-b6d2fe218cd2"
      },
      "execution_count": 22,
      "outputs": [
        {
          "output_type": "stream",
          "name": "stdout",
          "text": [
            "step= 1 | state=[ 0.      0.1801  0.0457 -0.2982] | action=1 | reward=1.0\n",
            "step= 2 | state=[ 0.0036  0.3745  0.0397 -0.5761] | action=1 | reward=1.0\n",
            "step= 3 | state=[ 0.0111  0.1789  0.0282 -0.2712] | action=0 | reward=1.0\n",
            "step= 4 | state=[ 0.0147 -0.0166  0.0228  0.0303] | action=0 | reward=1.0\n",
            "step= 5 | state=[ 0.0144 -0.2121  0.0234  0.3301] | action=0 | reward=1.0\n",
            "step= 6 | state=[ 0.0101 -0.4075  0.03    0.63  ] | action=0 | reward=1.0\n",
            "step= 7 | state=[ 0.002  -0.2128  0.0426  0.3469] | action=1 | reward=1.0\n",
            "step= 8 | state=[-0.0023 -0.4085  0.0495  0.6527] | action=0 | reward=1.0\n",
            "step= 9 | state=[-0.0104 -0.6043  0.0626  0.9606] | action=0 | reward=1.0\n",
            "step=10 | state=[-0.0225 -0.8002  0.0818  1.2723] | action=0 | reward=1.0\n",
            "step=11 | state=[-0.0385 -0.6062  0.1072  1.0063] | action=1 | reward=1.0\n",
            "step=12 | state=[-0.0507 -0.8026  0.1274  1.3306] | action=0 | reward=1.0\n",
            "step=13 | state=[-0.0667 -0.9991  0.154   1.6603] | action=0 | reward=1.0\n",
            "step=14 | state=[-0.0867 -1.1956  0.1872  1.9967] | action=0 | reward=1.0\n",
            "step=15 | state=[-0.1106 -1.0029  0.2271  1.7674] | action=1 | reward=1.0\n",
            "*** FAILED ***\n"
          ]
        }
      ]
    },
    {
      "cell_type": "code",
      "source": [
        "done"
      ],
      "metadata": {
        "colab": {
          "base_uri": "https://localhost:8080/"
        },
        "id": "EGNET056e8Z-",
        "outputId": "ec076782-dacc-45c1-efb9-f6b991856479"
      },
      "execution_count": 23,
      "outputs": [
        {
          "output_type": "execute_result",
          "data": {
            "text/plain": [
              "True"
            ]
          },
          "metadata": {},
          "execution_count": 23
        }
      ]
    },
    {
      "cell_type": "code",
      "source": [
        "env.reset()\n",
        "img = plt.imshow(env.render(mode='rgb_array')) # initialize bitmap embedding\n",
        "for e in range(100):\n",
        "  img.set_data(env.render(mode='rgb_array')) # updating the data\n",
        "  display.display(plt.gcf())\n",
        "  display.clear_output(wait=True)\n",
        "  a = env.action_space.sample() # random action choice\n",
        "  obs, rew, done, _ = env.step(a) # taking action\n",
        "  if done and (e + 1) < 200:\n",
        "    print('*** FAILED ***')\n",
        "    break"
      ],
      "metadata": {
        "colab": {
          "base_uri": "https://localhost:8080/",
          "height": 496
        },
        "id": "GGJljnjhfTmN",
        "outputId": "15f8509b-7d38-4354-bbad-81421dccb3ef"
      },
      "execution_count": 24,
      "outputs": [
        {
          "output_type": "stream",
          "name": "stdout",
          "text": [
            "*** FAILED ***\n"
          ]
        },
        {
          "output_type": "display_data",
          "data": {
            "text/plain": [
              "<Figure size 800x550 with 1 Axes>"
            ],
            "image/png": "[encoded data removed]"
          },
          "metadata": {}
        }
      ]
    },
    {
      "cell_type": "code",
      "source": [
        "import tensorflow as tf\n",
        "from keras.layers import Dense, Dropout\n",
        "from keras.models import Sequential\n",
        "from keras.optimizers import Adam\n",
        "from sklearn.metrics import accuracy_score"
      ],
      "metadata": {
        "id": "M3WKa0fPgKzp"
      },
      "execution_count": 25,
      "outputs": []
    },
    {
      "cell_type": "code",
      "source": [
        "def set_seeds(seed=100):\n",
        "  random.seed(seed)\n",
        "  np.random.seed(seed)\n",
        "  tf.random.set_seed(seed)\n",
        "  env.seed(seed)"
      ],
      "metadata": {
        "colab": {
          "base_uri": "https://localhost:8080/"
        },
        "id": "j6KsYbD_hfPM",
        "outputId": "a89f01ac-85a6-4fda-9b6d-827f33f2d560"
      },
      "execution_count": 26,
      "outputs": [
        {
          "output_type": "stream",
          "name": "stderr",
          "text": [
            "/usr/local/lib/python3.10/dist-packages/ipykernel/ipkernel.py:283: DeprecationWarning: `should_run_async` will not call `transform_cell` automatically in the future. Please pass the result to `transformed_cell` argument and any exception that happen during thetransform in `preprocessing_exc_tuple` in IPython 7.17 and above.\n",
            "  and should_run_async(code)\n"
          ]
        }
      ]
    },
    {
      "cell_type": "code",
      "source": [
        "from collections import deque"
      ],
      "metadata": {
        "id": "aMf9pJsVhvy4"
      },
      "execution_count": 27,
      "outputs": []
    },
    {
      "cell_type": "code",
      "source": [
        "class DQLAgent:\n",
        "  def __init__(self, gamma=0.95, lr=0.001, finish=1e10):\n",
        "    self.finish = finish\n",
        "    self.epsilon = 1.0\n",
        "    self.epsilon_min = 0.01\n",
        "    self.epsilon_decay = 0.995\n",
        "    self.gamma = gamma\n",
        "    self.batch_size = 32\n",
        "    self.lr = lr\n",
        "    self.max_treward = 0\n",
        "    self.averages = list()\n",
        "    self.memory = deque(maxlen=2000)\n",
        "    self.osn = env.observation_space.shape[0]\n",
        "    self.model = self._build_model()\n",
        "\n",
        "  def _build_model(self):\n",
        "    model = Sequential()\n",
        "    model.add(Dense(24, input_dim=self.osn,\n",
        "                    activation='relu'))\n",
        "    model.add(Dense(24, activation='relu'))\n",
        "    model.add(Dense(env.action_space.n, activation='linear'))\n",
        "    model.compile(loss='mse', optimizer=Adam(lr=self.lr))\n",
        "    return model\n",
        "\n",
        "  def act(self, state):\n",
        "    if random.random() <= self.epsilon:\n",
        "      return env.action_space.sample()\n",
        "    action  = self.model.predict(state)[0]\n",
        "    return np.argmax(action)\n",
        "\n",
        "  def replay(self):\n",
        "    batch = random.sample(self.memory, self.batch_size)\n",
        "    for state, action, reward, next_state, done in batch:\n",
        "      if not done:\n",
        "        reward += self.gamma * np.amax(\n",
        "            self.model.predict(next_state)[0])\n",
        "        target = self.model.predict(state)\n",
        "        target[0, action] = reward\n",
        "        self.model.fit(state, target, epochs=1, verbose=False)\n",
        "    if self.epsilon > self.epsilon_min:\n",
        "      self.epsilon *= self.epsilon_decay\n",
        "\n",
        "  def learn(self, episodes, max_iter=200):\n",
        "    trewards = []\n",
        "    for e in range(1, episodes + 1):\n",
        "      state = env.reset()\n",
        "      state = np.reshape(state, [1, self.osn])\n",
        "      for _ in range(max_iter):\n",
        "        action = self.act(state)\n",
        "        next_state, reward, done, info = env.step(action)\n",
        "        next_state = np.reshape(next_state, [1, self.osn])\n",
        "        self.memory.append([state, action, reward, next_state, done])\n",
        "        state = next_state\n",
        "        if done:\n",
        "          treward = _ + 1\n",
        "          trewards.append(treward)\n",
        "          av = sum(trewards[-25:]) / 25\n",
        "          self.averages.append(av)\n",
        "          self.max_treward = max(self.max_treward, treward)\n",
        "          templ = 'episode: {:4d}/{} | treward: {:4d} | av: {:6.1f} | max: {:4d}'\n",
        "          print(templ.format(e, episodes, treward, av, self.max_treward), end='\\r')\n",
        "          break\n",
        "      if av > self.finish:\n",
        "        print()\n",
        "        break\n",
        "      if len(self.memory) > self.batch_size:\n",
        "        self.replay()\n",
        "\n",
        "  def test(self, episodes, max_iter=200):\n",
        "    trewards = []\n",
        "    for e in range(1, episodes + 1):\n",
        "      state = env.reset()\n",
        "      for _ in range(max_iter):\n",
        "        state = np.reshape(state, [1, self.osn])\n",
        "        action = np.argmax(self.model.predict(state)[0])\n",
        "        next_state, reward, done, info = env.step(action)\n",
        "        state = next_state\n",
        "        if done:\n",
        "          treward = _ + 1\n",
        "          trewards.append(treward)\n",
        "          print('episode: {:4d}/{} | treward: {:4d}'.format(e, episodes, treward), end='\\r')\n",
        "          time.sleep(0.05)\n",
        "          break\n",
        "    return trewards\n"
      ],
      "metadata": {
        "id": "_TSp65MsjFaU"
      },
      "execution_count": 35,
      "outputs": []
    },
    {
      "cell_type": "code",
      "source": [
        "set_seeds(100)\n",
        "agent = DQLAgent (lr = 0.001, finish=195)"
      ],
      "metadata": {
        "colab": {
          "base_uri": "https://localhost:8080/"
        },
        "id": "yxfQ7rAg7R8s",
        "outputId": "8649cdb7-b67e-4f01-8e4d-075f2f446224"
      },
      "execution_count": 36,
      "outputs": [
        {
          "output_type": "stream",
          "name": "stderr",
          "text": [
            "/usr/local/lib/python3.10/dist-packages/keras/optimizers/legacy/adam.py:117: UserWarning: The `lr` argument is deprecated, use `learning_rate` instead.\n",
            "  super().__init__(name, **kwargs)\n"
          ]
        }
      ]
    },
    {
      "cell_type": "code",
      "source": [
        "episodes = 1000"
      ],
      "metadata": {
        "id": "2vli6n9O7214"
      },
      "execution_count": 37,
      "outputs": []
    },
    {
      "cell_type": "code",
      "source": [
        "%time agent.learn(episodes)"
      ],
      "metadata": {
        "id": "BsBuC7B38CtT"
      },
      "execution_count": null,
      "outputs": []
    },
    {
      "cell_type": "code",
      "source": [
        "agent.epsilon"
      ],
      "metadata": {
        "colab": {
          "base_uri": "https://localhost:8080/"
        },
        "id": "LGOq2roJ8Ikx",
        "outputId": "53168f96-9b95-49ae-dd1a-e861af034b89"
      },
      "execution_count": 39,
      "outputs": [
        {
          "output_type": "execute_result",
          "data": {
            "text/plain": [
              "0.5344229416520513"
            ]
          },
          "metadata": {},
          "execution_count": 39
        }
      ]
    },
    {
      "cell_type": "code",
      "source": [
        "plt.figure(figsize=(10,6))\n",
        "x = range(len(agent.averages))\n",
        "y = np.polyval(np.polyfit(x, agent.averages, deg=3), x)\n",
        "plt.plot(agent.averages, label='moving average')\n",
        "plt.plot(x, y, 'r--', label='regression')\n",
        "plt.xlabel('episodes')\n",
        "plt.ylabel('total reward')\n",
        "plt.legend();"
      ],
      "metadata": {
        "colab": {
          "base_uri": "https://localhost:8080/",
          "height": 542
        },
        "id": "1VqzuaDi8MRJ",
        "outputId": "823508dc-b8c9-44d2-aee5-aa79977922b2"
      },
      "execution_count": 40,
      "outputs": [
        {
          "output_type": "display_data",
          "data": {
            "text/plain": [
              "<Figure size 1000x600 with 1 Axes>"
            ],
            "image/png": "[encoded data removed]"
          },
          "metadata": {}
        }
      ]
    },
    {
      "cell_type": "code",
      "source": [
        "trewards = agent.test(100)"
      ],
      "metadata": {
        "id": "fSAC1LATDZ_s"
      },
      "execution_count": null,
      "outputs": []
    },
    {
      "cell_type": "code",
      "source": [
        "sum(trewards)/len(trewards)"
      ],
      "metadata": {
        "colab": {
          "base_uri": "https://localhost:8080/"
        },
        "id": "8PPMgQZRDi5K",
        "outputId": "4641205f-4eb1-4700-cd55-94c812b94a95"
      },
      "execution_count": 42,
      "outputs": [
        {
          "output_type": "execute_result",
          "data": {
            "text/plain": [
              "9.26"
            ]
          },
          "metadata": {},
          "execution_count": 42
        }
      ]
    },
    {
      "cell_type": "code",
      "source": [
        "class observation_space:\n",
        "  def __init__(self, n):\n",
        "    self.shape = (n,)"
      ],
      "metadata": {
        "id": "AUm1eIvnDq93"
      },
      "execution_count": 57,
      "outputs": []
    },
    {
      "cell_type": "code",
      "source": [
        "class action_space:\n",
        "  def __init__(self, n):\n",
        "    self.n = n\n",
        "  def sample(self):\n",
        "    return random.randint(0, self.n -1)"
      ],
      "metadata": {
        "id": "vjRfazm7J3La"
      },
      "execution_count": 58,
      "outputs": []
    },
    {
      "cell_type": "code",
      "source": [
        "class Finance:\n",
        "  url = 'http://hilpisch.com/aiif_eikon_eod_data.csv'\n",
        "\n",
        "  def __init__(self, symbol, features):\n",
        "    self.symbol = symbol\n",
        "    self.features = features\n",
        "    self.observation_space = observation_space(4)\n",
        "    self.osn = self.observation_space.shape[0]\n",
        "    self.action_space = action_space(2)\n",
        "    self.min_accuracy = 0.5\n",
        "    self._get_data()\n",
        "    self._prepare_data()\n",
        "\n",
        "  def _get_data(self):\n",
        "    self.raw = pd.read_csv(self.url, index_col =0, parse_dates=True).dropna()\n",
        "\n",
        "  def _prepare_data(self):\n",
        "    self.data = pd.DataFrame(self.raw[self.symbol])\n",
        "    self.data['r'] = np.log(self.data / self.data.shift(1))\n",
        "    self.data.dropna(inplace=True)\n",
        "    self.data = (self.data - self.data.mean())/self.data.std()\n",
        "    self.data['d'] = np.where(self.data['r'] > 0, 1, 0)\n",
        "\n",
        "  def _get_state(self):\n",
        "    return self.data[self.features].iloc[self.bar - self.osn:self.bar].values\n",
        "\n",
        "  def seed(self, seed =None):\n",
        "    pass\n",
        "\n",
        "  def reset(self):\n",
        "    self.treward =0\n",
        "    self.accuracy = 0\n",
        "    self.bar = self.osn\n",
        "    state = self.data[self.features].iloc[self.bar - self.osn:self.bar]\n",
        "    return state.values\n",
        "\n",
        "  def step(self, action):\n",
        "    correct = action == self.data['d'].iloc[self.bar]\n",
        "    reward = 1 if correct else 0\n",
        "    self.treward += reward\n",
        "    self.bar += 1\n",
        "    self.accuracy = self.treward / (self.bar - self.osn)\n",
        "    if self.bar >= len(self.data):\n",
        "      done = True\n",
        "    elif reward == 1:\n",
        "      done = False\n",
        "    elif (self.accuracy < self.min_accuracy and self.bar > self.osn + 10):\n",
        "      done = True\n",
        "    else:\n",
        "      done = False\n",
        "    state = self._get_state()\n",
        "    info = {}\n",
        "    return state, reward, done, info\n"
      ],
      "metadata": {
        "id": "mj89xySlKFom"
      },
      "execution_count": 59,
      "outputs": []
    },
    {
      "cell_type": "code",
      "source": [
        "env = Finance('EUR=', 'r')"
      ],
      "metadata": {
        "id": "8kWUp4TwQJgc"
      },
      "execution_count": 60,
      "outputs": []
    },
    {
      "cell_type": "code",
      "source": [
        "env.reset()"
      ],
      "metadata": {
        "colab": {
          "base_uri": "https://localhost:8080/"
        },
        "id": "MVDKHEG2QJdn",
        "outputId": "bc77d386-091c-4441-fee8-25855c9c1fcb"
      },
      "execution_count": 61,
      "outputs": [
        {
          "output_type": "execute_result",
          "data": {
            "text/plain": [
              "array([-0.5125,  0.5603, -1.1434,  1.1788])"
            ]
          },
          "metadata": {},
          "execution_count": 61
        }
      ]
    },
    {
      "cell_type": "code",
      "source": [
        "a = env.action_space.sample()\n",
        "a"
      ],
      "metadata": {
        "colab": {
          "base_uri": "https://localhost:8080/"
        },
        "id": "JKgpWQfVQJa6",
        "outputId": "fd032eea-e633-4110-f610-31e7982cf426"
      },
      "execution_count": 63,
      "outputs": [
        {
          "output_type": "stream",
          "name": "stderr",
          "text": [
            "/usr/local/lib/python3.10/dist-packages/ipykernel/ipkernel.py:283: DeprecationWarning: `should_run_async` will not call `transform_cell` automatically in the future. Please pass the result to `transformed_cell` argument and any exception that happen during thetransform in `preprocessing_exc_tuple` in IPython 7.17 and above.\n",
            "  and should_run_async(code)\n"
          ]
        },
        {
          "output_type": "execute_result",
          "data": {
            "text/plain": [
              "0"
            ]
          },
          "metadata": {},
          "execution_count": 63
        }
      ]
    },
    {
      "cell_type": "code",
      "source": [
        "env.step(a)"
      ],
      "metadata": {
        "colab": {
          "base_uri": "https://localhost:8080/"
        },
        "id": "0Gl5Q5vWTTfA",
        "outputId": "0c8ce472-5f82-4923-e6ce-4e7311833f1d"
      },
      "execution_count": 64,
      "outputs": [
        {
          "output_type": "stream",
          "name": "stderr",
          "text": [
            "/usr/local/lib/python3.10/dist-packages/ipykernel/ipkernel.py:283: DeprecationWarning: `should_run_async` will not call `transform_cell` automatically in the future. Please pass the result to `transformed_cell` argument and any exception that happen during thetransform in `preprocessing_exc_tuple` in IPython 7.17 and above.\n",
            "  and should_run_async(code)\n"
          ]
        },
        {
          "output_type": "execute_result",
          "data": {
            "text/plain": [
              "(array([ 0.5603, -1.1434,  1.1788,  1.2569]), 0, False, {})"
            ]
          },
          "metadata": {},
          "execution_count": 64
        }
      ]
    },
    {
      "cell_type": "code",
      "source": [
        "set_seeds(100)\n",
        "agent = DQLAgent(lr=0.001, gamma=0.5, finish=2400)"
      ],
      "metadata": {
        "colab": {
          "base_uri": "https://localhost:8080/"
        },
        "id": "JGyecFWJTekf",
        "outputId": "99499c55-2bef-48d4-bcad-c4507ae2b09c"
      },
      "execution_count": 65,
      "outputs": [
        {
          "output_type": "stream",
          "name": "stderr",
          "text": [
            "/usr/local/lib/python3.10/dist-packages/ipykernel/ipkernel.py:283: DeprecationWarning: `should_run_async` will not call `transform_cell` automatically in the future. Please pass the result to `transformed_cell` argument and any exception that happen during thetransform in `preprocessing_exc_tuple` in IPython 7.17 and above.\n",
            "  and should_run_async(code)\n",
            "/usr/local/lib/python3.10/dist-packages/keras/optimizers/legacy/adam.py:117: UserWarning: The `lr` argument is deprecated, use `learning_rate` instead.\n",
            "  super().__init__(name, **kwargs)\n"
          ]
        }
      ]
    },
    {
      "cell_type": "code",
      "source": [
        "episodes=1000"
      ],
      "metadata": {
        "colab": {
          "base_uri": "https://localhost:8080/"
        },
        "id": "HyuNCW5WTt6k",
        "outputId": "e1f86ad6-ea2d-44e7-e878-d0f12cafad98"
      },
      "execution_count": 66,
      "outputs": [
        {
          "output_type": "stream",
          "name": "stderr",
          "text": [
            "/usr/local/lib/python3.10/dist-packages/ipykernel/ipkernel.py:283: DeprecationWarning: `should_run_async` will not call `transform_cell` automatically in the future. Please pass the result to `transformed_cell` argument and any exception that happen during thetransform in `preprocessing_exc_tuple` in IPython 7.17 and above.\n",
            "  and should_run_async(code)\n"
          ]
        }
      ]
    },
    {
      "cell_type": "code",
      "source": [
        "%time agent.learn(episodes, max_iter=2600)"
      ],
      "metadata": {
        "id": "207CH1kzTycX"
      },
      "execution_count": null,
      "outputs": []
    },
    {
      "cell_type": "code",
      "source": [
        "agent.epsilon"
      ],
      "metadata": {
        "colab": {
          "base_uri": "https://localhost:8080/"
        },
        "id": "VLS6IVaxT5Zd",
        "outputId": "95eba385-1f35-4f96-cae7-47eeff79a229"
      },
      "execution_count": 68,
      "outputs": [
        {
          "output_type": "execute_result",
          "data": {
            "text/plain": [
              "0.9091562615825302"
            ]
          },
          "metadata": {},
          "execution_count": 68
        }
      ]
    },
    {
      "cell_type": "code",
      "source": [
        "agent.test(3, max_iter=2600)"
      ],
      "metadata": {
        "id": "jfHTdfmUUHZp"
      },
      "execution_count": null,
      "outputs": []
    },
    {
      "cell_type": "code",
      "source": [
        "plt.figure(figsize=(10,6))\n",
        "x = range(len(agent.averages))\n",
        "y = np.polyval(np.polyfit(x, agent.averages, deg=3), x)\n",
        "plt.plot(agent.averages, label='moving average')\n",
        "plt.plot(x, y, 'r--', label = 'regression')\n",
        "plt.xlabel('episodes')\n",
        "plt.ylabel('total reward')\n",
        "plt.legend();"
      ],
      "metadata": {
        "colab": {
          "base_uri": "https://localhost:8080/",
          "height": 542
        },
        "id": "4cWZwGn7UKiJ",
        "outputId": "29060e3d-8089-427b-d2fd-adb2e875ad9a"
      },
      "execution_count": 70,
      "outputs": [
        {
          "output_type": "display_data",
          "data": {
            "text/plain": [
              "<Figure size 1000x600 with 1 Axes>"
            ],
            "image/png": "[encoded data removed]"
          },
          "metadata": {}
        }
      ]
    },
    {
      "cell_type": "code",
      "source": [],
      "metadata": {
        "id": "SPx2nSgsU5Hb"
      },
      "execution_count": null,
      "outputs": []
    }
  ]
}